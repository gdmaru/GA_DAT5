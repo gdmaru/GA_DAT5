{
  "nbformat": 4,
  "nbformat_minor": 0,
  "metadata": {
    "colab": {
      "name": "LEGO Classification via CNN.ipynb",
      "version": "0.3.2",
      "provenance": [],
      "collapsed_sections": [],
      "include_colab_link": true
    },
    "kernelspec": {
      "name": "python3",
      "display_name": "Python 3"
    },
    "accelerator": "GPU"
  },
  "cells": [
    {
      "cell_type": "markdown",
      "metadata": {
        "id": "view-in-github",
        "colab_type": "text"
      },
      "source": [
        "<a href=\"https://colab.research.google.com/github/gdmaru/GA_DAT5/blob/master/LEGO_Classification_via_CNN.ipynb\" target=\"_parent\"><img src=\"https://colab.research.google.com/assets/colab-badge.svg\" alt=\"Open In Colab\"/></a>"
      ]
    },
    {
      "metadata": {
        "id": "o7FA5C2_lJ0g",
        "colab_type": "text"
      },
      "cell_type": "markdown",
      "source": [
        "# LEGO Project\n",
        "\n",
        "I want to classify legos \n",
        "\n",
        "I'd like to use the famous imagenet model called Rasnet50 to do a transfer learning"
      ]
    },
    {
      "metadata": {
        "id": "8g1rbr24nXaH",
        "colab_type": "text"
      },
      "cell_type": "markdown",
      "source": [
        "## Testing for GPU \n",
        "\n",
        "\n",
        "To Test if you have GPU set up\n",
        "\n",
        "Run the Cell below\n",
        "\n",
        "if no GPU is found press Runtime (in the menu at the top) and choose \"Change Runtime Type\" to GPU\n"
      ]
    },
    {
      "metadata": {
        "id": "jRkbniNsna4P",
        "colab_type": "code",
        "outputId": "2013b760-6ca4-4a56-b4a6-e21e6ac61ca3",
        "colab": {
          "base_uri": "https://localhost:8080/",
          "height": 34
        }
      },
      "cell_type": "code",
      "source": [
        "import tensorflow as tf\n",
        "device_name = tf.test.gpu_device_name()\n",
        "if device_name != '/device:GPU:0':\n",
        "  raise SystemError('GPU device not found')\n",
        "print('Found GPU at: {}'.format(device_name))"
      ],
      "execution_count": 0,
      "outputs": [
        {
          "output_type": "stream",
          "text": [
            "Found GPU at: /device:GPU:0\n"
          ],
          "name": "stdout"
        }
      ]
    },
    {
      "metadata": {
        "id": "PFubg_eGrJKD",
        "colab_type": "text"
      },
      "cell_type": "markdown",
      "source": [
        "## Google Drive Setup"
      ]
    },
    {
      "metadata": {
        "id": "Kq9CFFBhrNu2",
        "colab_type": "code",
        "colab": {}
      },
      "cell_type": "code",
      "source": [
        "from google.colab import auth\n",
        "auth.authenticate_user()"
      ],
      "execution_count": 0,
      "outputs": []
    },
    {
      "metadata": {
        "id": "d6aUstRyrXhA",
        "colab_type": "code",
        "outputId": "0f0126a6-a70c-4aba-a754-506b2340ce89",
        "colab": {
          "base_uri": "https://localhost:8080/",
          "height": 34
        }
      },
      "cell_type": "code",
      "source": [
        "from google.colab import drive\n",
        "drive.mount('/gdrive')"
      ],
      "execution_count": 0,
      "outputs": [
        {
          "output_type": "stream",
          "text": [
            "Drive already mounted at /gdrive; to attempt to forcibly remount, call drive.mount(\"/gdrive\", force_remount=True).\n"
          ],
          "name": "stdout"
        }
      ]
    },
    {
      "metadata": {
        "id": "k8EO7dahrqFq",
        "colab_type": "code",
        "outputId": "79209ce7-65b9-416c-8cc0-7f662edca79b",
        "colab": {
          "base_uri": "https://localhost:8080/",
          "height": 238
        }
      },
      "cell_type": "code",
      "source": [
        "!ls '/gdrive/My Drive/'"
      ],
      "execution_count": 0,
      "outputs": [
        {
          "output_type": "stream",
          "text": [
            " basic_cnn.h5\n",
            "'Colab Notebooks'\n",
            "'Dongchan Lee - CV - 05 Jan 2018.doc'\n",
            " git_and_project_submissions.gslides\n",
            "'git_and_project_submissions의 사본.gslides'\n",
            "'Global Superstore (1).xls.gsheet'\n",
            "'Global Superstore (2).xls.gsheet'\n",
            "'Global Superstore (3).xls.gsheet'\n",
            "'Global Superstore.xls.gsheet'\n",
            " LEGO.zip\n",
            " mnist_cnn_model.h5\n",
            "'test01 (1).txt'\n",
            " test01.txt\n"
          ],
          "name": "stdout"
        }
      ]
    },
    {
      "metadata": {
        "id": "Nt4_XpB1ntEM",
        "colab_type": "text"
      },
      "cell_type": "markdown",
      "source": [
        "##Unzip the data\n",
        "by placing ! infront we can run almost any linux shell command"
      ]
    },
    {
      "metadata": {
        "id": "lYW8-c3PnfGZ",
        "colab_type": "code",
        "outputId": "c1483576-03e0-4947-f959-84314bfb50e0",
        "colab": {
          "base_uri": "https://localhost:8080/",
          "height": 51
        }
      },
      "cell_type": "code",
      "source": [
        "!unzip -qq '/gdrive/My Drive/LEGO.zip'\n",
        "\n",
        "!ls"
      ],
      "execution_count": 0,
      "outputs": [
        {
          "output_type": "stream",
          "text": [
            "replace LEGO/306201/IMG_9621.JPG? [y]es, [n]o, [A]ll, [N]one, [r]ename: N\n",
            "adc.json  data\tLEGO  __MACOSX\tsample_data\n"
          ],
          "name": "stdout"
        }
      ]
    },
    {
      "metadata": {
        "id": "H6gLe_w-F-yx",
        "colab_type": "code",
        "colab": {}
      },
      "cell_type": "code",
      "source": [
        "! rm LEGO/*/.DS*"
      ],
      "execution_count": 0,
      "outputs": []
    },
    {
      "metadata": {
        "id": "xdUd5RnIn6XT",
        "colab_type": "code",
        "outputId": "2da17d52-7685-4b6b-8941-3b56ee5c5167",
        "colab": {
          "base_uri": "https://localhost:8080/",
          "height": 153
        }
      },
      "cell_type": "code",
      "source": [
        "!ls -la LEGO/6174310"
      ],
      "execution_count": 0,
      "outputs": [
        {
          "output_type": "stream",
          "text": [
            "total 7404\n",
            "drwxr-xr-x  2 root root    4096 Dec 14 09:42 .\n",
            "drwxr-xr-x 33 root root    4096 Dec 14 09:42 ..\n",
            "-rw-r--r--  1 root root 1408406 Dec 14 06:08 IMG_9643.JPG\n",
            "-rw-r--r--  1 root root 1666918 Dec 14 06:08 IMG_9644.JPG\n",
            "-rw-r--r--  1 root root 1708854 Dec 14 06:08 IMG_9645.JPG\n",
            "-rw-r--r--  1 root root 1449265 Dec 14 06:08 IMG_9646.JPG\n",
            "-rw-r--r--  1 root root 1332355 Dec 14 06:08 IMG_9647.JPG\n"
          ],
          "name": "stdout"
        }
      ]
    },
    {
      "metadata": {
        "id": "AnwgTQOU4KoA",
        "colab_type": "code",
        "outputId": "e52735e8-ba51-4420-9587-50f3b0b8a06f",
        "colab": {
          "base_uri": "https://localhost:8080/",
          "height": 54
        }
      },
      "cell_type": "code",
      "source": [
        "CLASS_DIR='LEGO'\n",
        "classes = [d for d in os.listdir(CLASS_DIR) if not d.startswith('.')]\n",
        "', '.join(classes)"
      ],
      "execution_count": 0,
      "outputs": [
        {
          "output_type": "execute_result",
          "data": {
            "text/plain": [
              "'6108662, 300423, 300523, 449521, 246001, 614323, 428623, 4275815, 300123, 6174310, 6099548, 303221, 6079402, 306201, 4173943, 300121, 6099412, 6054551, 6069002, 300421, 302401, 6030266, 366623, 6060734, 371021, 6218943, 4534648, 302023, 6072998, 9342, 303923'"
            ]
          },
          "metadata": {
            "tags": []
          },
          "execution_count": 31
        }
      ]
    },
    {
      "metadata": {
        "id": "d2Mzxr119Tfe",
        "colab_type": "code",
        "outputId": "490505b2-ffe6-4cd3-92dc-67c63d71b389",
        "colab": {
          "base_uri": "https://localhost:8080/",
          "height": 68
        }
      },
      "cell_type": "code",
      "source": [
        "#from tensorflow.python.keras.applications.nasnet import NASNetLarge, preprocess_input\n",
        "#model = NASNetLarge(weights='imagenet', include_top=False)  # 343,608,736\n",
        "\n",
        "#from tensorflow.keras.applications.nasnet import NASNetMobile, preprocess_input, decode_predictions\n",
        "from keras.applications.nasnet import NASNetMobile, preprocess_input, decode_predictions\n",
        "\n",
        "model_imagenet = NASNetMobile(weights='imagenet', include_top=True)   # 24,226,656 bytes\n",
        "print(\"Model Loaded\")"
      ],
      "execution_count": 0,
      "outputs": [
        {
          "output_type": "stream",
          "text": [
            "Downloading data from https://github.com/titu1994/Keras-NASNet/releases/download/v1.2/NASNet-mobile.h5\n",
            "24231936/24227760 [==============================] - 3s 0us/step\n",
            "Model Loaded\n"
          ],
          "name": "stdout"
        }
      ]
    },
    {
      "metadata": {
        "id": "RdukYxSF9yyv",
        "colab_type": "code",
        "colab": {}
      },
      "cell_type": "code",
      "source": [
        "# https://www.tensorflow.org/api_docs/python/tf/keras/applications/\n",
        "#from tensorflow.keras.preprocessing import image as keras_preprocessing_image\n",
        "from keras.preprocessing import image as keras_preprocessing_image"
      ],
      "execution_count": 0,
      "outputs": []
    },
    {
      "metadata": {
        "id": "3A1VYigu9HoJ",
        "colab_type": "code",
        "outputId": "d569063e-2c4e-4b31-a33c-22ad8ffed2c9",
        "colab": {
          "base_uri": "https://localhost:8080/",
          "height": 34
        }
      },
      "cell_type": "code",
      "source": [
        "#model_logits   = NASNetMobile(weights='imagenet', include_top=False, pooling=None)  # 19,993,200 bytes\n",
        "#logits_layer = model_imagenet.get_layer('global_average_pooling2d_1')\n",
        "logits_layer = model_imagenet.get_layer('predictions')\n",
        "model_logits = keras.Model(inputs=model_imagenet.input, outputs=logits_layer.output)\n",
        "print(\"Model Loaded\")"
      ],
      "execution_count": 0,
      "outputs": [
        {
          "output_type": "stream",
          "text": [
            "Model Loaded\n"
          ],
          "name": "stdout"
        }
      ]
    },
    {
      "metadata": {
        "id": "Lw3Efx6a5Uh7",
        "colab_type": "code",
        "colab": {}
      },
      "cell_type": "code",
      "source": [
        "def crop_middle_square_area(np_image):\n",
        "    h, w, _ = np_image.shape\n",
        "    h = int(h/2)\n",
        "    w = int(w/2)\n",
        "    if h>w:\n",
        "        return np_image[ h-w:h+w, : ]\n",
        "    return np_image[ :, w-h:w+h ]    \n",
        "  \n",
        "#im_sq = crop_middle_square_area(im)\n",
        "#im_sq.shape"
      ],
      "execution_count": 0,
      "outputs": []
    },
    {
      "metadata": {
        "id": "f8lelhCm8X_c",
        "colab_type": "code",
        "colab": {}
      },
      "cell_type": "code",
      "source": [
        "def image_to_input(model, img_path):\n",
        "    target_size=model.input_shape[1:]\n",
        "    img = keras_preprocessing_image.load_img(img_path, target_size=target_size)\n",
        "    \n",
        "    x = keras_preprocessing_image.img_to_array(img)\n",
        "    x = np.expand_dims(x, axis=0)\n",
        "    x = preprocess_input(x)\n",
        "\n",
        "    return x"
      ],
      "execution_count": 0,
      "outputs": []
    },
    {
      "metadata": {
        "id": "VIlk2IZMpqIi",
        "colab_type": "code",
        "outputId": "9b135dff-f178-4442-c23a-83a448a129d7",
        "colab": {
          "base_uri": "https://localhost:8080/",
          "height": 34
        }
      },
      "cell_type": "code",
      "source": [
        "train = dict(filepath=[], features=[], target=[])\n",
        "\n",
        "t0 = time.time()\n",
        "\n",
        "for class_i, directory in enumerate(classes):\n",
        "    for filename in os.listdir(os.path.join(CLASS_DIR, directory)):\n",
        "        filepath = os.path.join(CLASS_DIR, directory, filename)\n",
        "        if os.path.isdir(filepath): continue\n",
        "\n",
        "        im = plt.imread(filepath)\n",
        "        im_sq = crop_middle_square_area(im)\n",
        "\n",
        "        x = image_to_input(model_logits, filepath)\n",
        "        #np_logits = model_logits.predict(x)  # Shape = 1x7x7x1056  if pooling=None\n",
        "        #print(np_logits.shape)\n",
        "        #np_logits_pooled = get_logits_from_non_top( np_logits )\n",
        "        \n",
        "        np_logits_pooled = model_logits.predict(x)[0]  # Shape = 1x1056 if pooling=avg\n",
        "        \n",
        "        train['filepath'].append(filepath)\n",
        "        train['features'].append(np_logits_pooled)\n",
        "        train['target'].append( class_i )\n",
        "\n",
        "        #plt.figure()\n",
        "        #plt.imshow(im_sq.astype('uint8'))\n",
        "        #plt.axis('off')\n",
        "\n",
        "        #plt.text(2*320, 50, '{}'.format(filename), fontsize=14)\n",
        "        #plt.text(2*320, 80, 'Train as class \"{}\"'.format(directory), fontsize=12)\n",
        "\n",
        "print(\"DONE : %6.2f seconds each\" %(float(time.time() - t0)/len(train),))"
      ],
      "execution_count": 0,
      "outputs": [
        {
          "output_type": "stream",
          "text": [
            "DONE :  44.12 seconds each\n"
          ],
          "name": "stdout"
        }
      ]
    },
    {
      "metadata": {
        "id": "vS7KLIiUwdxb",
        "colab_type": "code",
        "colab": {}
      },
      "cell_type": "code",
      "source": [
        "%matplotlib inline\n",
        "import matplotlib.pyplot as plt\n",
        "\n",
        "\n",
        "import os, json\n",
        "from glob import glob\n",
        "import numpy as np\n",
        "\n",
        "import keras\n",
        "import time\n",
        "\n",
        "from tensorflow.keras import optimizers\n",
        "\n",
        "from tensorflow.keras.applications import InceptionV3\n",
        "from tensorflow.keras.applications.vgg16 import VGG16\n",
        "\n",
        "\n",
        "from tensorflow.python.keras.preprocessing import image\n",
        "from tensorflow.python.keras.preprocessing.image import ImageDataGenerator\n",
        "\n",
        "from tensorflow.python.keras.models import Model,load_model,Sequential\n",
        "\n",
        "from tensorflow.python.keras.layers import Dense, GlobalAveragePooling2D, Dropout,Flatten, Input, Conv2D, MaxPooling2D, Dropout, Flatten\n",
        "from tensorflow.python.keras import backend as K\n",
        "\n",
        "from tensorflow.keras.callbacks import ModelCheckpoint, Callback\n"
      ],
      "execution_count": 0,
      "outputs": []
    },
    {
      "metadata": {
        "id": "aROrWY4pw0jx",
        "colab_type": "code",
        "outputId": "f9333c88-c68e-4e51-9b55-4c8e1f66128f",
        "colab": {
          "base_uri": "https://localhost:8080/",
          "height": 68
        }
      },
      "cell_type": "code",
      "source": [
        "print(tf.__version__)\n",
        "print(tf.keras.__version__)\n",
        "print(keras.__version__)"
      ],
      "execution_count": 0,
      "outputs": [
        {
          "output_type": "stream",
          "text": [
            "1.12.0\n",
            "2.1.6-tf\n",
            "2.2.4\n"
          ],
          "name": "stdout"
        }
      ]
    },
    {
      "metadata": {
        "id": "i3LddoV11nIR",
        "colab_type": "code",
        "colab": {}
      },
      "cell_type": "code",
      "source": [
        "# Set up some Hyperparameters\n",
        "\n",
        "batch_size = 32\n",
        "epochs = 10\n",
        "\n",
        "lr = 0.001"
      ],
      "execution_count": 0,
      "outputs": []
    },
    {
      "metadata": {
        "id": "ITxte5p814rX",
        "colab_type": "code",
        "colab": {}
      },
      "cell_type": "code",
      "source": [
        ""
      ],
      "execution_count": 0,
      "outputs": []
    }
  ]
}